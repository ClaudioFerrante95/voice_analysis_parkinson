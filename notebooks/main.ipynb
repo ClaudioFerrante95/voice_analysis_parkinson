{
 "cells": [
  {
   "cell_type": "markdown",
   "metadata": {
    "pycharm": {
     "name": "#%% md\n"
    }
   },
   "source": [
    "# Cross-Lingual Transferability of Voice Analysis Models: a Parkinson's Disease Case Study"
   ]
  },
  {
   "cell_type": "markdown",
   "metadata": {
    "pycharm": {
     "name": "#%% md\n"
    }
   },
   "source": [
    "## Preliminaries"
   ]
  },
  {
   "cell_type": "markdown",
   "metadata": {},
   "source": [
    "### Imports"
   ]
  },
  {
   "cell_type": "code",
   "execution_count": 1,
   "metadata": {
    "collapsed": false,
    "jupyter": {
     "outputs_hidden": false
    },
    "pycharm": {
     "name": "#%%\n"
    }
   },
   "outputs": [],
   "source": [
    "from typing import Tuple, List, Dict, Union, Optional"
   ]
  },
  {
   "cell_type": "code",
   "execution_count": 2,
   "metadata": {
    "collapsed": false,
    "jupyter": {
     "outputs_hidden": false
    },
    "pycharm": {
     "name": "#%%\n"
    }
   },
   "outputs": [],
   "source": [
    "import os\n",
    "from ast import literal_eval\n",
    "import datetime"
   ]
  },
  {
   "cell_type": "code",
   "execution_count": 3,
   "metadata": {
    "collapsed": false,
    "jupyter": {
     "outputs_hidden": false
    },
    "pycharm": {
     "name": "#%%\n"
    }
   },
   "outputs": [],
   "source": [
    "import pandas as pd\n",
    "import librosa"
   ]
  },
  {
   "cell_type": "code",
   "execution_count": 4,
   "metadata": {
    "collapsed": false,
    "jupyter": {
     "outputs_hidden": false
    },
    "pycharm": {
     "name": "#%%\n"
    }
   },
   "outputs": [],
   "source": [
    "%matplotlib inline\n",
    "from matplotlib import pyplot as plt\n",
    "import seaborn as sns"
   ]
  },
  {
   "cell_type": "markdown",
   "metadata": {},
   "source": [
    "### Constants"
   ]
  },
  {
   "cell_type": "code",
   "execution_count": 5,
   "metadata": {
    "collapsed": false,
    "jupyter": {
     "outputs_hidden": false
    },
    "pycharm": {
     "name": "#%%\n"
    }
   },
   "outputs": [],
   "source": [
    "EN_DATA_DIR: str = '../resources/data/preprocessed/en/'\n",
    "EN_METADATA_FILE: str = '../resources/data/preprocessed/en/metadata.csv'\n",
    "HI_DATA_DIR: str = '../resources/data/preprocessed/hi/'\n",
    "HI_METADATA_FILE: str = '../resources/data/preprocessed/hi/metadata.csv'"
   ]
  },
  {
   "cell_type": "code",
   "execution_count": 6,
   "metadata": {
    "collapsed": false,
    "jupyter": {
     "outputs_hidden": false
    },
    "pycharm": {
     "name": "#%%\n"
    }
   },
   "outputs": [],
   "source": [
    "EN_TO_HI_EXPERIMENTS_DIR: str = ''\n",
    "HI_TO_EN_EXPERIMENTS_DIR: str = ''"
   ]
  },
  {
   "cell_type": "code",
   "execution_count": 7,
   "metadata": {
    "collapsed": false,
    "jupyter": {
     "outputs_hidden": false
    },
    "pycharm": {
     "name": "#%%\n"
    }
   },
   "outputs": [],
   "source": [
    "OUT_DIR_PATH: str = '../experiments/results'\n",
    "if not os.path.exists(OUT_DIR_PATH):\n",
    "    os.mkdir(OUT_DIR_PATH)"
   ]
  },
  {
   "cell_type": "code",
   "execution_count": 8,
   "metadata": {
    "collapsed": false,
    "jupyter": {
     "outputs_hidden": false
    },
    "pycharm": {
     "name": "#%%\n"
    }
   },
   "outputs": [],
   "source": [
    "LABEL_MAPPING: Dict[str, str] = {\n",
    "    'healthy': 'Healthy conditions',\n",
    "    'unhealthy': 'Parkinson\\'s disease'\n",
    "}\n",
    "FEATURES_MAPPING: Dict[str, str] = {\n",
    "    'spectral': 'Acoustic and Spectral',\n",
    "    'vggish': 'VGGish',\n",
    "    'soundnet': 'SoundNet',\n",
    "    'wav2vec': 'Wav2Vec 2.0'\n",
    "}\n",
    "POOLING_MAPPING: Dict[str, str] = {\n",
    "    'avg': 'Avg. pooling',\n",
    "    'max': 'Max pooling',\n",
    "    'flatten': 'Flattening'\n",
    "}\n",
    "ADAPTATION_MAPPING: Dict[bool, str] = {\n",
    "    False: 'None',\n",
    "    True: 'CORrelation ALignment (CORAL)'\n",
    "}\n",
    "DATA_MAPPING: Dict[str, str] = {\n",
    "    'src': 'Source data (test split)',\n",
    "    'tgt': 'Target data'\n",
    "}\n",
    "METRICS_MAPPING: Dict[str, str] = {\n",
    "    'accuracy': 'Accuracy',\n",
    "    'precision': 'Precision',\n",
    "    'recall': 'Recall',\n",
    "    'fscore': '$F_1$-score',\n",
    "    'specificity': 'Specificity',\n",
    "    'roc_auc': 'ROC AUC',\n",
    "    'support': 'Support',\n",
    "    'fpr': 'False positives rate',\n",
    "    'tpr': 'True postives rate',\n",
    "    'roc_thresholds': 'Threshold (from ROC curve)',\n",
    "    'precisions': 'Precision score',\n",
    "    'recalls': 'Recall score',\n",
    "    'pr_rc_thresholds': 'Threshold (from precision-recall) curve',\n",
    "    'confusion_matrix': 'Confusion matrix'\n",
    "}"
   ]
  },
  {
   "cell_type": "code",
   "execution_count": 9,
   "metadata": {
    "collapsed": false,
    "jupyter": {
     "outputs_hidden": false
    },
    "pycharm": {
     "name": "#%%\n"
    }
   },
   "outputs": [],
   "source": [
    "DF_COLUMNS: List[str] = ['Input features', 'Pooling approach', 'Domain adaptation', 'Data set', 'Metric', 'Value']"
   ]
  },
  {
   "cell_type": "markdown",
   "metadata": {
    "pycharm": {
     "name": "#%% md\n"
    }
   },
   "source": [
    "### Utility function(s)"
   ]
  },
  {
   "cell_type": "code",
   "execution_count": 10,
   "metadata": {},
   "outputs": [],
   "source": [
    "def get_duration(path: str) -> Optional[float]:\n",
    "    if os.path.exists(path):\n",
    "        return librosa.get_duration(filename=path)\n",
    "    else:\n",
    "        return None"
   ]
  },
  {
   "cell_type": "code",
   "execution_count": 11,
   "metadata": {
    "collapsed": false,
    "jupyter": {
     "outputs_hidden": false
    },
    "pycharm": {
     "name": "#%%\n"
    }
   },
   "outputs": [],
   "source": [
    "def convert_series(raw_series: pd.Series) -> Tuple[\n",
    "    str, str, str, str, str, Union[float, int, List[float], List[List[int]]]\n",
    "]:\n",
    "    feature: str = FEATURES_MAPPING[raw_series['feature']]\n",
    "    pooling: str = POOLING_MAPPING[raw_series['pooling']]\n",
    "    adaptation: str = ADAPTATION_MAPPING[raw_series['adaptation']]\n",
    "    data: str = DATA_MAPPING[raw_series['data_set']]\n",
    "    metric: str = METRICS_MAPPING[raw_series['metric']]\n",
    "    value = literal_eval(raw_series['value'])\n",
    "\n",
    "    return feature, pooling, adaptation, data, metric, value"
   ]
  },
  {
   "cell_type": "code",
   "execution_count": 12,
   "metadata": {
    "collapsed": false,
    "jupyter": {
     "outputs_hidden": false
    },
    "pycharm": {
     "name": "#%%\n"
    }
   },
   "outputs": [],
   "source": [
    "def convert_results_df(raw_df: pd.DataFrame) -> pd.DataFrame:\n",
    "    df: pd.DataFrame = pd.DataFrame(\n",
    "        [row for _, row in raw_df.iterrows()], columns=DF_COLUMNS\n",
    "    )\n",
    "\n",
    "    return df"
   ]
  },
  {
   "cell_type": "markdown",
   "metadata": {},
   "source": [
    "## Data"
   ]
  },
  {
   "cell_type": "markdown",
   "metadata": {
    "pycharm": {
     "name": "#%% md\n"
    }
   },
   "source": [
    "Load data"
   ]
  },
  {
   "cell_type": "code",
   "execution_count": 13,
   "metadata": {
    "collapsed": false,
    "jupyter": {
     "outputs_hidden": false
    },
    "pycharm": {
     "name": "#%%\n"
    }
   },
   "outputs": [
    {
     "data": {
      "text/html": [
       "<div>\n",
       "<style scoped>\n",
       "    .dataframe tbody tr th:only-of-type {\n",
       "        vertical-align: middle;\n",
       "    }\n",
       "\n",
       "    .dataframe tbody tr th {\n",
       "        vertical-align: top;\n",
       "    }\n",
       "\n",
       "    .dataframe thead th {\n",
       "        text-align: right;\n",
       "    }\n",
       "</style>\n",
       "<table border=\"1\" class=\"dataframe\">\n",
       "  <thead>\n",
       "    <tr style=\"text-align: right;\">\n",
       "      <th></th>\n",
       "      <th>file_name</th>\n",
       "      <th>label</th>\n",
       "      <th>original_file_name</th>\n",
       "      <th>start_time</th>\n",
       "      <th>end_time</th>\n",
       "      <th>Language</th>\n",
       "      <th>Label</th>\n",
       "    </tr>\n",
       "  </thead>\n",
       "  <tbody>\n",
       "    <tr>\n",
       "      <th>250</th>\n",
       "      <td>ReadText_PD_ID27_pd_4_1_1_004.wav</td>\n",
       "      <td>unhealthy</td>\n",
       "      <td>ReadText/PD/ID27_pd_4_1_1.wav</td>\n",
       "      <td>00:01:08.000</td>\n",
       "      <td>00:01:22.000</td>\n",
       "      <td>English</td>\n",
       "      <td>Parkinson's disease</td>\n",
       "    </tr>\n",
       "    <tr>\n",
       "      <th>314</th>\n",
       "      <td>SpontaneousDialogue_HC_ID09_hc_0_0_0_000.wav</td>\n",
       "      <td>healthy</td>\n",
       "      <td>SpontaneousDialogue/HC/ID09_hc_0_0_0.wav</td>\n",
       "      <td>00:00:28.000</td>\n",
       "      <td>00:00:40.000</td>\n",
       "      <td>English</td>\n",
       "      <td>Healthy conditions</td>\n",
       "    </tr>\n",
       "    <tr>\n",
       "      <th>243</th>\n",
       "      <td>ReadText_PD_ID24_pd_2_0_0_004.wav</td>\n",
       "      <td>unhealthy</td>\n",
       "      <td>ReadText/PD/ID24_pd_2_0_0.wav</td>\n",
       "      <td>00:01:33.000</td>\n",
       "      <td>00:01:45.000</td>\n",
       "      <td>English</td>\n",
       "      <td>Parkinson's disease</td>\n",
       "    </tr>\n",
       "    <tr>\n",
       "      <th>121</th>\n",
       "      <td>ReadText_HC_ID25_hc_0_0_0_002.wav</td>\n",
       "      <td>healthy</td>\n",
       "      <td>ReadText/HC/ID25_hc_0_0_0.wav</td>\n",
       "      <td>00:01:05.000</td>\n",
       "      <td>00:01:19.000</td>\n",
       "      <td>English</td>\n",
       "      <td>Healthy conditions</td>\n",
       "    </tr>\n",
       "    <tr>\n",
       "      <th>183</th>\n",
       "      <td>ReadText_PD_ID04_pd_2_0_1_006.wav</td>\n",
       "      <td>unhealthy</td>\n",
       "      <td>ReadText/PD/ID04_pd_2_0_1.wav</td>\n",
       "      <td>00:01:44.000</td>\n",
       "      <td>00:01:59.000</td>\n",
       "      <td>English</td>\n",
       "      <td>Parkinson's disease</td>\n",
       "    </tr>\n",
       "    <tr>\n",
       "      <th>17</th>\n",
       "      <td>ReadText_HC_ID01_hc_0_0_0_007.wav</td>\n",
       "      <td>healthy</td>\n",
       "      <td>ReadText/HC/ID01_hc_0_0_0.wav</td>\n",
       "      <td>00:02:02.000</td>\n",
       "      <td>00:02:11.000</td>\n",
       "      <td>English</td>\n",
       "      <td>Healthy conditions</td>\n",
       "    </tr>\n",
       "    <tr>\n",
       "      <th>182</th>\n",
       "      <td>ReadText_PD_ID04_pd_2_0_1_005.wav</td>\n",
       "      <td>unhealthy</td>\n",
       "      <td>ReadText/PD/ID04_pd_2_0_1.wav</td>\n",
       "      <td>00:01:32.000</td>\n",
       "      <td>00:01:44.000</td>\n",
       "      <td>English</td>\n",
       "      <td>Parkinson's disease</td>\n",
       "    </tr>\n",
       "    <tr>\n",
       "      <th>284</th>\n",
       "      <td>ReadText_PD_ID34_pd_2_0_0_004.wav</td>\n",
       "      <td>unhealthy</td>\n",
       "      <td>ReadText/PD/ID34_pd_2_0_0.wav</td>\n",
       "      <td>00:01:14.000</td>\n",
       "      <td>00:01:21.000</td>\n",
       "      <td>English</td>\n",
       "      <td>Parkinson's disease</td>\n",
       "    </tr>\n",
       "    <tr>\n",
       "      <th>153</th>\n",
       "      <td>ReadText_HC_ID31_hc_0_1_1_010.wav</td>\n",
       "      <td>healthy</td>\n",
       "      <td>ReadText/HC/ID31_hc_0_1_1.wav</td>\n",
       "      <td>00:03:00.000</td>\n",
       "      <td>00:03:10.000</td>\n",
       "      <td>English</td>\n",
       "      <td>Healthy conditions</td>\n",
       "    </tr>\n",
       "    <tr>\n",
       "      <th>14</th>\n",
       "      <td>ReadText_HC_ID01_hc_0_0_0_004.wav</td>\n",
       "      <td>healthy</td>\n",
       "      <td>ReadText/HC/ID01_hc_0_0_0.wav</td>\n",
       "      <td>00:00:54.000</td>\n",
       "      <td>00:01:07.000</td>\n",
       "      <td>English</td>\n",
       "      <td>Healthy conditions</td>\n",
       "    </tr>\n",
       "  </tbody>\n",
       "</table>\n",
       "</div>"
      ],
      "text/plain": [
       "                                        file_name      label  \\\n",
       "250             ReadText_PD_ID27_pd_4_1_1_004.wav  unhealthy   \n",
       "314  SpontaneousDialogue_HC_ID09_hc_0_0_0_000.wav    healthy   \n",
       "243             ReadText_PD_ID24_pd_2_0_0_004.wav  unhealthy   \n",
       "121             ReadText_HC_ID25_hc_0_0_0_002.wav    healthy   \n",
       "183             ReadText_PD_ID04_pd_2_0_1_006.wav  unhealthy   \n",
       "17              ReadText_HC_ID01_hc_0_0_0_007.wav    healthy   \n",
       "182             ReadText_PD_ID04_pd_2_0_1_005.wav  unhealthy   \n",
       "284             ReadText_PD_ID34_pd_2_0_0_004.wav  unhealthy   \n",
       "153             ReadText_HC_ID31_hc_0_1_1_010.wav    healthy   \n",
       "14              ReadText_HC_ID01_hc_0_0_0_004.wav    healthy   \n",
       "\n",
       "                           original_file_name    start_time      end_time  \\\n",
       "250             ReadText/PD/ID27_pd_4_1_1.wav  00:01:08.000  00:01:22.000   \n",
       "314  SpontaneousDialogue/HC/ID09_hc_0_0_0.wav  00:00:28.000  00:00:40.000   \n",
       "243             ReadText/PD/ID24_pd_2_0_0.wav  00:01:33.000  00:01:45.000   \n",
       "121             ReadText/HC/ID25_hc_0_0_0.wav  00:01:05.000  00:01:19.000   \n",
       "183             ReadText/PD/ID04_pd_2_0_1.wav  00:01:44.000  00:01:59.000   \n",
       "17              ReadText/HC/ID01_hc_0_0_0.wav  00:02:02.000  00:02:11.000   \n",
       "182             ReadText/PD/ID04_pd_2_0_1.wav  00:01:32.000  00:01:44.000   \n",
       "284             ReadText/PD/ID34_pd_2_0_0.wav  00:01:14.000  00:01:21.000   \n",
       "153             ReadText/HC/ID31_hc_0_1_1.wav  00:03:00.000  00:03:10.000   \n",
       "14              ReadText/HC/ID01_hc_0_0_0.wav  00:00:54.000  00:01:07.000   \n",
       "\n",
       "    Language                Label  \n",
       "250  English  Parkinson's disease  \n",
       "314  English   Healthy conditions  \n",
       "243  English  Parkinson's disease  \n",
       "121  English   Healthy conditions  \n",
       "183  English  Parkinson's disease  \n",
       "17   English   Healthy conditions  \n",
       "182  English  Parkinson's disease  \n",
       "284  English  Parkinson's disease  \n",
       "153  English   Healthy conditions  \n",
       "14   English   Healthy conditions  "
      ]
     },
     "execution_count": 13,
     "metadata": {},
     "output_type": "execute_result"
    }
   ],
   "source": [
    "df_en_metadata: pd.DataFrame = pd.read_csv(EN_METADATA_FILE, )\n",
    "df_en_metadata['Language'] = 'English'\n",
    "df_en_metadata['Label'] = df_en_metadata.apply(lambda r: LABEL_MAPPING[r['label']], axis=1)\n",
    "\n",
    "df_en_metadata.sample(10)"
   ]
  },
  {
   "cell_type": "code",
   "execution_count": 14,
   "metadata": {
    "collapsed": false,
    "jupyter": {
     "outputs_hidden": false
    },
    "pycharm": {
     "name": "#%%\n"
    }
   },
   "outputs": [
    {
     "data": {
      "text/html": [
       "<div>\n",
       "<style scoped>\n",
       "    .dataframe tbody tr th:only-of-type {\n",
       "        vertical-align: middle;\n",
       "    }\n",
       "\n",
       "    .dataframe tbody tr th {\n",
       "        vertical-align: top;\n",
       "    }\n",
       "\n",
       "    .dataframe thead th {\n",
       "        text-align: right;\n",
       "    }\n",
       "</style>\n",
       "<table border=\"1\" class=\"dataframe\">\n",
       "  <thead>\n",
       "    <tr style=\"text-align: right;\">\n",
       "      <th></th>\n",
       "      <th>file_name</th>\n",
       "      <th>label</th>\n",
       "      <th>original_file_name</th>\n",
       "      <th>start_time</th>\n",
       "      <th>end_time</th>\n",
       "      <th>Language</th>\n",
       "      <th>Label</th>\n",
       "    </tr>\n",
       "  </thead>\n",
       "  <tbody>\n",
       "    <tr>\n",
       "      <th>31</th>\n",
       "      <td>AUD-20210713-WA0006_001.wav</td>\n",
       "      <td>unhealthy</td>\n",
       "      <td>AUD-20210713-WA0006.wav</td>\n",
       "      <td>00:00:11.000</td>\n",
       "      <td>00:00:21.000</td>\n",
       "      <td>Hindi</td>\n",
       "      <td>Parkinson's disease</td>\n",
       "    </tr>\n",
       "    <tr>\n",
       "      <th>147</th>\n",
       "      <td>hi_clips_common_voice_hi_34096324_000.wav</td>\n",
       "      <td>healthy</td>\n",
       "      <td>hi/clips/common_voice_hi_34096324.mp3</td>\n",
       "      <td>NaN</td>\n",
       "      <td>NaN</td>\n",
       "      <td>Hindi</td>\n",
       "      <td>Healthy conditions</td>\n",
       "    </tr>\n",
       "    <tr>\n",
       "      <th>94</th>\n",
       "      <td>hi_clips_common_voice_hi_33243596_000.wav</td>\n",
       "      <td>healthy</td>\n",
       "      <td>hi/clips/common_voice_hi_33243596.mp3</td>\n",
       "      <td>NaN</td>\n",
       "      <td>NaN</td>\n",
       "      <td>Hindi</td>\n",
       "      <td>Healthy conditions</td>\n",
       "    </tr>\n",
       "    <tr>\n",
       "      <th>8</th>\n",
       "      <td>AUD-20210527-WA0000_002.wav</td>\n",
       "      <td>unhealthy</td>\n",
       "      <td>AUD-20210527-WA0000.wav</td>\n",
       "      <td>00:00:27.000</td>\n",
       "      <td>00:00:35.000</td>\n",
       "      <td>Hindi</td>\n",
       "      <td>Parkinson's disease</td>\n",
       "    </tr>\n",
       "    <tr>\n",
       "      <th>48</th>\n",
       "      <td>PTT-20210524-WA0021_002.wav</td>\n",
       "      <td>unhealthy</td>\n",
       "      <td>PTT-20210524-WA0021.wav</td>\n",
       "      <td>00:00:47.000</td>\n",
       "      <td>00:00:54.000</td>\n",
       "      <td>Hindi</td>\n",
       "      <td>Parkinson's disease</td>\n",
       "    </tr>\n",
       "    <tr>\n",
       "      <th>114</th>\n",
       "      <td>hi_clips_common_voice_hi_33680985_000.wav</td>\n",
       "      <td>healthy</td>\n",
       "      <td>hi/clips/common_voice_hi_33680985.mp3</td>\n",
       "      <td>NaN</td>\n",
       "      <td>NaN</td>\n",
       "      <td>Hindi</td>\n",
       "      <td>Healthy conditions</td>\n",
       "    </tr>\n",
       "    <tr>\n",
       "      <th>199</th>\n",
       "      <td>hi_clips_common_voice_hi_34097648_000.wav</td>\n",
       "      <td>healthy</td>\n",
       "      <td>hi/clips/common_voice_hi_34097648.mp3</td>\n",
       "      <td>NaN</td>\n",
       "      <td>NaN</td>\n",
       "      <td>Hindi</td>\n",
       "      <td>Healthy conditions</td>\n",
       "    </tr>\n",
       "    <tr>\n",
       "      <th>32</th>\n",
       "      <td>AUD-20210713-WA0006_002.wav</td>\n",
       "      <td>unhealthy</td>\n",
       "      <td>AUD-20210713-WA0006.wav</td>\n",
       "      <td>00:00:25.000</td>\n",
       "      <td>00:00:38.000</td>\n",
       "      <td>Hindi</td>\n",
       "      <td>Parkinson's disease</td>\n",
       "    </tr>\n",
       "    <tr>\n",
       "      <th>195</th>\n",
       "      <td>hi_clips_common_voice_hi_34097601_000.wav</td>\n",
       "      <td>healthy</td>\n",
       "      <td>hi/clips/common_voice_hi_34097601.mp3</td>\n",
       "      <td>NaN</td>\n",
       "      <td>NaN</td>\n",
       "      <td>Hindi</td>\n",
       "      <td>Healthy conditions</td>\n",
       "    </tr>\n",
       "    <tr>\n",
       "      <th>111</th>\n",
       "      <td>hi_clips_common_voice_hi_33680982_000.wav</td>\n",
       "      <td>healthy</td>\n",
       "      <td>hi/clips/common_voice_hi_33680982.mp3</td>\n",
       "      <td>NaN</td>\n",
       "      <td>NaN</td>\n",
       "      <td>Hindi</td>\n",
       "      <td>Healthy conditions</td>\n",
       "    </tr>\n",
       "  </tbody>\n",
       "</table>\n",
       "</div>"
      ],
      "text/plain": [
       "                                     file_name      label  \\\n",
       "31                 AUD-20210713-WA0006_001.wav  unhealthy   \n",
       "147  hi_clips_common_voice_hi_34096324_000.wav    healthy   \n",
       "94   hi_clips_common_voice_hi_33243596_000.wav    healthy   \n",
       "8                  AUD-20210527-WA0000_002.wav  unhealthy   \n",
       "48                 PTT-20210524-WA0021_002.wav  unhealthy   \n",
       "114  hi_clips_common_voice_hi_33680985_000.wav    healthy   \n",
       "199  hi_clips_common_voice_hi_34097648_000.wav    healthy   \n",
       "32                 AUD-20210713-WA0006_002.wav  unhealthy   \n",
       "195  hi_clips_common_voice_hi_34097601_000.wav    healthy   \n",
       "111  hi_clips_common_voice_hi_33680982_000.wav    healthy   \n",
       "\n",
       "                        original_file_name    start_time      end_time  \\\n",
       "31                 AUD-20210713-WA0006.wav  00:00:11.000  00:00:21.000   \n",
       "147  hi/clips/common_voice_hi_34096324.mp3           NaN           NaN   \n",
       "94   hi/clips/common_voice_hi_33243596.mp3           NaN           NaN   \n",
       "8                  AUD-20210527-WA0000.wav  00:00:27.000  00:00:35.000   \n",
       "48                 PTT-20210524-WA0021.wav  00:00:47.000  00:00:54.000   \n",
       "114  hi/clips/common_voice_hi_33680985.mp3           NaN           NaN   \n",
       "199  hi/clips/common_voice_hi_34097648.mp3           NaN           NaN   \n",
       "32                 AUD-20210713-WA0006.wav  00:00:25.000  00:00:38.000   \n",
       "195  hi/clips/common_voice_hi_34097601.mp3           NaN           NaN   \n",
       "111  hi/clips/common_voice_hi_33680982.mp3           NaN           NaN   \n",
       "\n",
       "    Language                Label  \n",
       "31     Hindi  Parkinson's disease  \n",
       "147    Hindi   Healthy conditions  \n",
       "94     Hindi   Healthy conditions  \n",
       "8      Hindi  Parkinson's disease  \n",
       "48     Hindi  Parkinson's disease  \n",
       "114    Hindi   Healthy conditions  \n",
       "199    Hindi   Healthy conditions  \n",
       "32     Hindi  Parkinson's disease  \n",
       "195    Hindi   Healthy conditions  \n",
       "111    Hindi   Healthy conditions  "
      ]
     },
     "execution_count": 14,
     "metadata": {},
     "output_type": "execute_result"
    }
   ],
   "source": [
    "df_hi_metadata: pd.DataFrame = pd.read_csv(HI_METADATA_FILE)\n",
    "df_hi_metadata['Language'] = 'Hindi'\n",
    "df_hi_metadata['Label'] = df_hi_metadata.apply(lambda r: LABEL_MAPPING[r['label']], axis=1)\n",
    "\n",
    "df_hi_metadata.sample(10)"
   ]
  },
  {
   "cell_type": "code",
   "execution_count": 15,
   "metadata": {
    "collapsed": false,
    "jupyter": {
     "outputs_hidden": false
    },
    "pycharm": {
     "name": "#%%\n"
    }
   },
   "outputs": [
    {
     "data": {
      "text/html": [
       "<div>\n",
       "<style scoped>\n",
       "    .dataframe tbody tr th:only-of-type {\n",
       "        vertical-align: middle;\n",
       "    }\n",
       "\n",
       "    .dataframe tbody tr th {\n",
       "        vertical-align: top;\n",
       "    }\n",
       "\n",
       "    .dataframe thead th {\n",
       "        text-align: right;\n",
       "    }\n",
       "</style>\n",
       "<table border=\"1\" class=\"dataframe\">\n",
       "  <thead>\n",
       "    <tr style=\"text-align: right;\">\n",
       "      <th></th>\n",
       "      <th>index</th>\n",
       "      <th>file_name</th>\n",
       "      <th>label</th>\n",
       "      <th>original_file_name</th>\n",
       "      <th>start_time</th>\n",
       "      <th>end_time</th>\n",
       "      <th>Language</th>\n",
       "      <th>Label</th>\n",
       "    </tr>\n",
       "  </thead>\n",
       "  <tbody>\n",
       "    <tr>\n",
       "      <th>430</th>\n",
       "      <td>430</td>\n",
       "      <td>SpontaneousDialogue_PD_ID20_pd_3_0_1_002.wav</td>\n",
       "      <td>unhealthy</td>\n",
       "      <td>SpontaneousDialogue/PD/ID20_pd_3_0_1.wav</td>\n",
       "      <td>00:01:06.000</td>\n",
       "      <td>00:01:10.000</td>\n",
       "      <td>English</td>\n",
       "      <td>Parkinson's disease</td>\n",
       "    </tr>\n",
       "    <tr>\n",
       "      <th>676</th>\n",
       "      <td>211</td>\n",
       "      <td>hi_clips_common_voice_hi_34097775_000.wav</td>\n",
       "      <td>healthy</td>\n",
       "      <td>hi/clips/common_voice_hi_34097775.mp3</td>\n",
       "      <td>NaN</td>\n",
       "      <td>NaN</td>\n",
       "      <td>Hindi</td>\n",
       "      <td>Healthy conditions</td>\n",
       "    </tr>\n",
       "    <tr>\n",
       "      <th>97</th>\n",
       "      <td>97</td>\n",
       "      <td>ReadText_HC_ID21_hc_0_0_0_002.wav</td>\n",
       "      <td>healthy</td>\n",
       "      <td>ReadText/HC/ID21_hc_0_0_0.wav</td>\n",
       "      <td>00:00:53.000</td>\n",
       "      <td>00:01:02.000</td>\n",
       "      <td>English</td>\n",
       "      <td>Healthy conditions</td>\n",
       "    </tr>\n",
       "    <tr>\n",
       "      <th>186</th>\n",
       "      <td>186</td>\n",
       "      <td>ReadText_PD_ID06_pd_3_1_1_002.wav</td>\n",
       "      <td>unhealthy</td>\n",
       "      <td>ReadText/PD/ID06_pd_3_1_1.wav</td>\n",
       "      <td>00:01:03.000</td>\n",
       "      <td>00:01:15.000</td>\n",
       "      <td>English</td>\n",
       "      <td>Parkinson's disease</td>\n",
       "    </tr>\n",
       "    <tr>\n",
       "      <th>215</th>\n",
       "      <td>215</td>\n",
       "      <td>ReadText_PD_ID16_pd_2_0_0_006.wav</td>\n",
       "      <td>unhealthy</td>\n",
       "      <td>ReadText/PD/ID16_pd_2_0_0.wav</td>\n",
       "      <td>00:02:12.000</td>\n",
       "      <td>00:02:19.000</td>\n",
       "      <td>English</td>\n",
       "      <td>Parkinson's disease</td>\n",
       "    </tr>\n",
       "    <tr>\n",
       "      <th>585</th>\n",
       "      <td>120</td>\n",
       "      <td>hi_clips_common_voice_hi_33797544_000.wav</td>\n",
       "      <td>healthy</td>\n",
       "      <td>hi/clips/common_voice_hi_33797544.mp3</td>\n",
       "      <td>NaN</td>\n",
       "      <td>NaN</td>\n",
       "      <td>Hindi</td>\n",
       "      <td>Healthy conditions</td>\n",
       "    </tr>\n",
       "    <tr>\n",
       "      <th>655</th>\n",
       "      <td>190</td>\n",
       "      <td>hi_clips_common_voice_hi_34096950_000.wav</td>\n",
       "      <td>healthy</td>\n",
       "      <td>hi/clips/common_voice_hi_34096950.mp3</td>\n",
       "      <td>NaN</td>\n",
       "      <td>NaN</td>\n",
       "      <td>Hindi</td>\n",
       "      <td>Healthy conditions</td>\n",
       "    </tr>\n",
       "    <tr>\n",
       "      <th>565</th>\n",
       "      <td>100</td>\n",
       "      <td>hi_clips_common_voice_hi_33243617_000.wav</td>\n",
       "      <td>healthy</td>\n",
       "      <td>hi/clips/common_voice_hi_33243617.mp3</td>\n",
       "      <td>NaN</td>\n",
       "      <td>NaN</td>\n",
       "      <td>Hindi</td>\n",
       "      <td>Healthy conditions</td>\n",
       "    </tr>\n",
       "    <tr>\n",
       "      <th>104</th>\n",
       "      <td>104</td>\n",
       "      <td>ReadText_HC_ID22_hc_0_0_0_001.wav</td>\n",
       "      <td>healthy</td>\n",
       "      <td>ReadText/HC/ID22_hc_0_0_0.wav</td>\n",
       "      <td>00:00:45.000</td>\n",
       "      <td>00:00:54.000</td>\n",
       "      <td>English</td>\n",
       "      <td>Healthy conditions</td>\n",
       "    </tr>\n",
       "    <tr>\n",
       "      <th>243</th>\n",
       "      <td>243</td>\n",
       "      <td>ReadText_PD_ID24_pd_2_0_0_004.wav</td>\n",
       "      <td>unhealthy</td>\n",
       "      <td>ReadText/PD/ID24_pd_2_0_0.wav</td>\n",
       "      <td>00:01:33.000</td>\n",
       "      <td>00:01:45.000</td>\n",
       "      <td>English</td>\n",
       "      <td>Parkinson's disease</td>\n",
       "    </tr>\n",
       "  </tbody>\n",
       "</table>\n",
       "</div>"
      ],
      "text/plain": [
       "     index                                     file_name      label  \\\n",
       "430    430  SpontaneousDialogue_PD_ID20_pd_3_0_1_002.wav  unhealthy   \n",
       "676    211     hi_clips_common_voice_hi_34097775_000.wav    healthy   \n",
       "97      97             ReadText_HC_ID21_hc_0_0_0_002.wav    healthy   \n",
       "186    186             ReadText_PD_ID06_pd_3_1_1_002.wav  unhealthy   \n",
       "215    215             ReadText_PD_ID16_pd_2_0_0_006.wav  unhealthy   \n",
       "585    120     hi_clips_common_voice_hi_33797544_000.wav    healthy   \n",
       "655    190     hi_clips_common_voice_hi_34096950_000.wav    healthy   \n",
       "565    100     hi_clips_common_voice_hi_33243617_000.wav    healthy   \n",
       "104    104             ReadText_HC_ID22_hc_0_0_0_001.wav    healthy   \n",
       "243    243             ReadText_PD_ID24_pd_2_0_0_004.wav  unhealthy   \n",
       "\n",
       "                           original_file_name    start_time      end_time  \\\n",
       "430  SpontaneousDialogue/PD/ID20_pd_3_0_1.wav  00:01:06.000  00:01:10.000   \n",
       "676     hi/clips/common_voice_hi_34097775.mp3           NaN           NaN   \n",
       "97              ReadText/HC/ID21_hc_0_0_0.wav  00:00:53.000  00:01:02.000   \n",
       "186             ReadText/PD/ID06_pd_3_1_1.wav  00:01:03.000  00:01:15.000   \n",
       "215             ReadText/PD/ID16_pd_2_0_0.wav  00:02:12.000  00:02:19.000   \n",
       "585     hi/clips/common_voice_hi_33797544.mp3           NaN           NaN   \n",
       "655     hi/clips/common_voice_hi_34096950.mp3           NaN           NaN   \n",
       "565     hi/clips/common_voice_hi_33243617.mp3           NaN           NaN   \n",
       "104             ReadText/HC/ID22_hc_0_0_0.wav  00:00:45.000  00:00:54.000   \n",
       "243             ReadText/PD/ID24_pd_2_0_0.wav  00:01:33.000  00:01:45.000   \n",
       "\n",
       "    Language                Label  \n",
       "430  English  Parkinson's disease  \n",
       "676    Hindi   Healthy conditions  \n",
       "97   English   Healthy conditions  \n",
       "186  English  Parkinson's disease  \n",
       "215  English  Parkinson's disease  \n",
       "585    Hindi   Healthy conditions  \n",
       "655    Hindi   Healthy conditions  \n",
       "565    Hindi   Healthy conditions  \n",
       "104  English   Healthy conditions  \n",
       "243  English  Parkinson's disease  "
      ]
     },
     "execution_count": 15,
     "metadata": {},
     "output_type": "execute_result"
    }
   ],
   "source": [
    "df_metadata = pd.concat([df_en_metadata, df_hi_metadata]).reset_index()\n",
    "\n",
    "df_metadata.sample(10)"
   ]
  },
  {
   "cell_type": "markdown",
   "metadata": {
    "pycharm": {
     "name": "#%% md\n"
    }
   },
   "source": [
    "Distribution of duration (in seconds) of audio files"
   ]
  },
  {
   "cell_type": "code",
   "execution_count": 16,
   "metadata": {
    "collapsed": false,
    "jupyter": {
     "outputs_hidden": false
    },
    "pycharm": {
     "name": "#%%\n"
    }
   },
   "outputs": [
    {
     "data": {
      "text/html": [
       "<div>\n",
       "<style scoped>\n",
       "    .dataframe tbody tr th:only-of-type {\n",
       "        vertical-align: middle;\n",
       "    }\n",
       "\n",
       "    .dataframe tbody tr th {\n",
       "        vertical-align: top;\n",
       "    }\n",
       "\n",
       "    .dataframe thead th {\n",
       "        text-align: right;\n",
       "    }\n",
       "</style>\n",
       "<table border=\"1\" class=\"dataframe\">\n",
       "  <thead>\n",
       "    <tr style=\"text-align: right;\">\n",
       "      <th></th>\n",
       "      <th>index</th>\n",
       "      <th>file_name</th>\n",
       "      <th>label</th>\n",
       "      <th>original_file_name</th>\n",
       "      <th>start_time</th>\n",
       "      <th>end_time</th>\n",
       "      <th>Language</th>\n",
       "      <th>Label</th>\n",
       "      <th>Duration [s]</th>\n",
       "    </tr>\n",
       "  </thead>\n",
       "  <tbody>\n",
       "    <tr>\n",
       "      <th>661</th>\n",
       "      <td>196</td>\n",
       "      <td>hi_clips_common_voice_hi_34097640_000.wav</td>\n",
       "      <td>healthy</td>\n",
       "      <td>hi/clips/common_voice_hi_34097640.mp3</td>\n",
       "      <td>NaN</td>\n",
       "      <td>NaN</td>\n",
       "      <td>Hindi</td>\n",
       "      <td>Healthy conditions</td>\n",
       "      <td>3.617313</td>\n",
       "    </tr>\n",
       "    <tr>\n",
       "      <th>640</th>\n",
       "      <td>175</td>\n",
       "      <td>hi_clips_common_voice_hi_34096796_000.wav</td>\n",
       "      <td>healthy</td>\n",
       "      <td>hi/clips/common_voice_hi_34096796.mp3</td>\n",
       "      <td>NaN</td>\n",
       "      <td>NaN</td>\n",
       "      <td>Hindi</td>\n",
       "      <td>Healthy conditions</td>\n",
       "      <td>6.353313</td>\n",
       "    </tr>\n",
       "    <tr>\n",
       "      <th>486</th>\n",
       "      <td>21</td>\n",
       "      <td>AUD-20210628-WA0009_000.wav</td>\n",
       "      <td>unhealthy</td>\n",
       "      <td>AUD-20210628-WA0009.wav</td>\n",
       "      <td>00:00:00.000</td>\n",
       "      <td>00:00:10.000</td>\n",
       "      <td>Hindi</td>\n",
       "      <td>Parkinson's disease</td>\n",
       "      <td>10.026667</td>\n",
       "    </tr>\n",
       "    <tr>\n",
       "      <th>663</th>\n",
       "      <td>198</td>\n",
       "      <td>hi_clips_common_voice_hi_34097646_000.wav</td>\n",
       "      <td>healthy</td>\n",
       "      <td>hi/clips/common_voice_hi_34097646.mp3</td>\n",
       "      <td>NaN</td>\n",
       "      <td>NaN</td>\n",
       "      <td>Hindi</td>\n",
       "      <td>Healthy conditions</td>\n",
       "      <td>5.993313</td>\n",
       "    </tr>\n",
       "    <tr>\n",
       "      <th>213</th>\n",
       "      <td>213</td>\n",
       "      <td>ReadText_PD_ID16_pd_2_0_0_004.wav</td>\n",
       "      <td>unhealthy</td>\n",
       "      <td>ReadText/PD/ID16_pd_2_0_0.wav</td>\n",
       "      <td>00:01:47.000</td>\n",
       "      <td>00:01:55.000</td>\n",
       "      <td>English</td>\n",
       "      <td>Parkinson's disease</td>\n",
       "      <td>8.016667</td>\n",
       "    </tr>\n",
       "    <tr>\n",
       "      <th>55</th>\n",
       "      <td>55</td>\n",
       "      <td>ReadText_HC_ID11_hc_0_0_0_003.wav</td>\n",
       "      <td>healthy</td>\n",
       "      <td>ReadText/HC/ID11_hc_0_0_0.wav</td>\n",
       "      <td>00:01:14.000</td>\n",
       "      <td>00:01:23.000</td>\n",
       "      <td>English</td>\n",
       "      <td>Healthy conditions</td>\n",
       "      <td>9.007143</td>\n",
       "    </tr>\n",
       "    <tr>\n",
       "      <th>248</th>\n",
       "      <td>248</td>\n",
       "      <td>ReadText_PD_ID27_pd_4_1_1_002.wav</td>\n",
       "      <td>unhealthy</td>\n",
       "      <td>ReadText/PD/ID27_pd_4_1_1.wav</td>\n",
       "      <td>00:00:47.000</td>\n",
       "      <td>00:00:57.000</td>\n",
       "      <td>English</td>\n",
       "      <td>Parkinson's disease</td>\n",
       "      <td>9.997619</td>\n",
       "    </tr>\n",
       "    <tr>\n",
       "      <th>178</th>\n",
       "      <td>178</td>\n",
       "      <td>ReadText_PD_ID04_pd_2_0_1_001.wav</td>\n",
       "      <td>unhealthy</td>\n",
       "      <td>ReadText/PD/ID04_pd_2_0_1.wav</td>\n",
       "      <td>00:00:52.000</td>\n",
       "      <td>00:00:57.000</td>\n",
       "      <td>English</td>\n",
       "      <td>Parkinson's disease</td>\n",
       "      <td>5.014286</td>\n",
       "    </tr>\n",
       "    <tr>\n",
       "      <th>135</th>\n",
       "      <td>135</td>\n",
       "      <td>ReadText_HC_ID28_hc_0_0_0_000.wav</td>\n",
       "      <td>healthy</td>\n",
       "      <td>ReadText/HC/ID28_hc_0_0_0.wav</td>\n",
       "      <td>00:00:26.000</td>\n",
       "      <td>00:00:32.000</td>\n",
       "      <td>English</td>\n",
       "      <td>Healthy conditions</td>\n",
       "      <td>6.004762</td>\n",
       "    </tr>\n",
       "    <tr>\n",
       "      <th>82</th>\n",
       "      <td>82</td>\n",
       "      <td>ReadText_HC_ID15_hc_0_0_0_004.wav</td>\n",
       "      <td>healthy</td>\n",
       "      <td>ReadText/HC/ID15_hc_0_0_0.wav</td>\n",
       "      <td>00:01:31.000</td>\n",
       "      <td>00:01:44.000</td>\n",
       "      <td>English</td>\n",
       "      <td>Healthy conditions</td>\n",
       "      <td>13.000000</td>\n",
       "    </tr>\n",
       "  </tbody>\n",
       "</table>\n",
       "</div>"
      ],
      "text/plain": [
       "     index                                  file_name      label  \\\n",
       "661    196  hi_clips_common_voice_hi_34097640_000.wav    healthy   \n",
       "640    175  hi_clips_common_voice_hi_34096796_000.wav    healthy   \n",
       "486     21                AUD-20210628-WA0009_000.wav  unhealthy   \n",
       "663    198  hi_clips_common_voice_hi_34097646_000.wav    healthy   \n",
       "213    213          ReadText_PD_ID16_pd_2_0_0_004.wav  unhealthy   \n",
       "55      55          ReadText_HC_ID11_hc_0_0_0_003.wav    healthy   \n",
       "248    248          ReadText_PD_ID27_pd_4_1_1_002.wav  unhealthy   \n",
       "178    178          ReadText_PD_ID04_pd_2_0_1_001.wav  unhealthy   \n",
       "135    135          ReadText_HC_ID28_hc_0_0_0_000.wav    healthy   \n",
       "82      82          ReadText_HC_ID15_hc_0_0_0_004.wav    healthy   \n",
       "\n",
       "                        original_file_name    start_time      end_time  \\\n",
       "661  hi/clips/common_voice_hi_34097640.mp3           NaN           NaN   \n",
       "640  hi/clips/common_voice_hi_34096796.mp3           NaN           NaN   \n",
       "486                AUD-20210628-WA0009.wav  00:00:00.000  00:00:10.000   \n",
       "663  hi/clips/common_voice_hi_34097646.mp3           NaN           NaN   \n",
       "213          ReadText/PD/ID16_pd_2_0_0.wav  00:01:47.000  00:01:55.000   \n",
       "55           ReadText/HC/ID11_hc_0_0_0.wav  00:01:14.000  00:01:23.000   \n",
       "248          ReadText/PD/ID27_pd_4_1_1.wav  00:00:47.000  00:00:57.000   \n",
       "178          ReadText/PD/ID04_pd_2_0_1.wav  00:00:52.000  00:00:57.000   \n",
       "135          ReadText/HC/ID28_hc_0_0_0.wav  00:00:26.000  00:00:32.000   \n",
       "82           ReadText/HC/ID15_hc_0_0_0.wav  00:01:31.000  00:01:44.000   \n",
       "\n",
       "    Language                Label  Duration [s]  \n",
       "661    Hindi   Healthy conditions      3.617313  \n",
       "640    Hindi   Healthy conditions      6.353313  \n",
       "486    Hindi  Parkinson's disease     10.026667  \n",
       "663    Hindi   Healthy conditions      5.993313  \n",
       "213  English  Parkinson's disease      8.016667  \n",
       "55   English   Healthy conditions      9.007143  \n",
       "248  English  Parkinson's disease      9.997619  \n",
       "178  English  Parkinson's disease      5.014286  \n",
       "135  English   Healthy conditions      6.004762  \n",
       "82   English   Healthy conditions     13.000000  "
      ]
     },
     "execution_count": 16,
     "metadata": {},
     "output_type": "execute_result"
    }
   ],
   "source": [
    "df_metadata['Duration [s]'] = df_metadata.apply(\n",
    "    lambda r: get_duration(os.path.join(EN_DATA_DIR if r['Language'] == 'English' else HI_DATA_DIR, r['file_name'])), axis=1\n",
    ")\n",
    "df_metadata.sample(10)"
   ]
  },
  {
   "cell_type": "code",
   "execution_count": 17,
   "metadata": {
    "collapsed": false,
    "jupyter": {
     "outputs_hidden": false
    },
    "pycharm": {
     "name": "#%%\n"
    }
   },
   "outputs": [
    {
     "data": {
      "image/png": "[encoded data removed]",
      "text/plain": [
       "<Figure size 600x600 with 1 Axes>"
      ]
     },
     "metadata": {},
     "output_type": "display_data"
    }
   ],
   "source": [
    "fig = plt.figure(figsize=(6, 6))\n",
    "\n",
    "sns.kdeplot(data=df_metadata, x='Duration [s]', color='tab:green')\n",
    "sns.kdeplot(data=df_metadata, x='Duration [s]', hue='Language' , color=['tab:red', 'tab:green'])\n",
    "plt.xlabel('Duration [s]')\n",
    "plt.xlim(0, 25)\n",
    "plt.grid()\n",
    "\n",
    "plt.show()"
   ]
  },
  {
   "cell_type": "code",
   "execution_count": 18,
   "metadata": {
    "collapsed": false,
    "jupyter": {
     "outputs_hidden": false
    },
    "pycharm": {
     "name": "#%%\n"
    }
   },
   "outputs": [],
   "source": [
    "fig.savefig(os.path.join(OUT_DIR_PATH, 'dist_duration.pdf'))"
   ]
  },
  {
   "cell_type": "code",
   "execution_count": 19,
   "metadata": {
    "collapsed": false,
    "jupyter": {
     "outputs_hidden": false
    },
    "pycharm": {
     "name": "#%%\n"
    }
   },
   "outputs": [
    {
     "data": {
      "image/png": "[encoded data removed]",
      "text/plain": [
       "<Figure size 1200x600 with 2 Axes>"
      ]
     },
     "metadata": {},
     "output_type": "display_data"
    }
   ],
   "source": [
    "fig, axes = plt.subplots(nrows=1, ncols=2, figsize=(12, 6), sharex=True, sharey=True)\n",
    "\n",
    "for i, (language) in enumerate(['English', 'Hindi']):\n",
    "    sns.kdeplot(data=df_metadata[df_metadata['Language'] == language], x='Duration [s]', color='tab:green', ax=axes[i])\n",
    "    sns.kdeplot(\n",
    "        data=df_metadata[df_metadata['Language'] == language],\n",
    "        x='Duration [s]',\n",
    "        hue='Label',\n",
    "        color=['tab:red', 'tab:blue'],\n",
    "        ax=axes[i]\n",
    "    )\n",
    "    plt.xlabel('Duration [s]')\n",
    "    axes[i].set_title(f'Language: {language}')\n",
    "    axes[i].set_xlabel('Duration [s]')\n",
    "    axes[i].grid()\n",
    "    axes[i].set_xlim(0, 25)\n",
    "\n",
    "plt.tight_layout()\n",
    "plt.show()\n"
   ]
  },
  {
   "cell_type": "code",
   "execution_count": 20,
   "metadata": {
    "collapsed": false,
    "jupyter": {
     "outputs_hidden": false
    },
    "pycharm": {
     "name": "#%%\n"
    }
   },
   "outputs": [],
   "source": [
    "fig.savefig(os.path.join(OUT_DIR_PATH, 'dist_duration_lang.pdf'))"
   ]
  },
  {
   "cell_type": "code",
   "execution_count": 21,
   "metadata": {},
   "outputs": [
    {
     "data": {
      "image/png": "[encoded data removed]",
      "text/plain": [
       "<Figure size 600x600 with 1 Axes>"
      ]
     },
     "metadata": {},
     "output_type": "display_data"
    }
   ],
   "source": [
    "fig = plt.figure(figsize=(6, 6))\n",
    "\n",
    "sns.kdeplot(data=df_metadata[df_metadata['Language'] == 'English'], x='Duration [s]', color='tab:green')\n",
    "sns.kdeplot(data=df_metadata[df_metadata['Language'] == 'English'], x='Duration [s]', hue='Label' , color=['tab:red', 'tab:blue'])\n",
    "plt.xlabel('Duration [s]')\n",
    "plt.xlim(0, 25)\n",
    "plt.grid()\n",
    "\n",
    "plt.show()"
   ]
  },
  {
   "cell_type": "code",
   "execution_count": 22,
   "metadata": {},
   "outputs": [],
   "source": [
    "fig.savefig(os.path.join(OUT_DIR_PATH, 'dist_duration_en.pdf'))"
   ]
  },
  {
   "cell_type": "code",
   "execution_count": 23,
   "metadata": {},
   "outputs": [
    {
     "data": {
      "image/png": "[encoded data removed]",
      "text/plain": [
       "<Figure size 600x600 with 1 Axes>"
      ]
     },
     "metadata": {},
     "output_type": "display_data"
    }
   ],
   "source": [
    "fig = plt.figure(figsize=(6, 6))\n",
    "\n",
    "sns.kdeplot(data=df_metadata[df_metadata['Language'] == 'Hindi'], x='Duration [s]', color='tab:green')\n",
    "sns.kdeplot(data=df_metadata[df_metadata['Language'] == 'Hindi'], x='Duration [s]', hue='Label' , color=['tab:red', 'tab:green'])\n",
    "plt.xlabel('Duration [s]')\n",
    "plt.xlim(0, 20)\n",
    "plt.grid()\n",
    "\n",
    "plt.show()"
   ]
  },
  {
   "cell_type": "code",
   "execution_count": 24,
   "metadata": {},
   "outputs": [],
   "source": [
    "fig.savefig(os.path.join(OUT_DIR_PATH, 'dist_duration_hi.pdf'))"
   ]
  },
  {
   "cell_type": "markdown",
   "metadata": {
    "pycharm": {
     "name": "#%% md\n"
    }
   },
   "source": [
    "Cumulative durations"
   ]
  },
  {
   "cell_type": "code",
   "execution_count": 25,
   "metadata": {
    "collapsed": false,
    "jupyter": {
     "outputs_hidden": false
    },
    "pycharm": {
     "name": "#%%df_metadata['Duration [s]']\n"
    }
   },
   "outputs": [
    {
     "name": "stdout",
     "output_type": "stream",
     "text": [
      "Total time [s]:                        1:49:17.437625\n",
      "Healthy patients time [s]:             1:01:00.315054\n",
      "Parkinson's disease patients time [s]: 0:48:17.122571\n"
     ]
    }
   ],
   "source": [
    "print(f\"Total time [s]:                        {datetime.timedelta(seconds=df_metadata['Duration [s]'].sum())}\")\n",
    "print(f\"Healthy patients time [s]:             {datetime.timedelta(seconds=df_metadata[df_metadata['Label'] == 'Healthy conditions']['Duration [s]'].sum())}\")\n",
    "print(f\"Parkinson's disease patients time [s]: {datetime.timedelta(seconds=df_metadata[df_metadata['Label'] != 'Healthy conditions']['Duration [s]'].sum())}\")"
   ]
  },
  {
   "cell_type": "code",
   "execution_count": 26,
   "metadata": {
    "collapsed": false,
    "jupyter": {
     "outputs_hidden": false
    },
    "pycharm": {
     "name": "#%%\n"
    }
   },
   "outputs": [
    {
     "name": "stdout",
     "output_type": "stream",
     "text": [
      "English\n",
      "Total time [s]:                        1:21:03.083333\n",
      "Healthy patients time [s]:             0:45:25.171429\n",
      "Parkinson's disease patients time [s]: 0:35:37.911905\n",
      "\n",
      "\n",
      "Hindi\n",
      "Total time [s]:                        0:28:14.354292\n",
      "Healthy patients time [s]:             0:15:35.143625\n",
      "Parkinson's disease patients time [s]: 0:12:39.210667\n",
      "\n",
      "\n"
     ]
    }
   ],
   "source": [
    "for language in ['English', 'Hindi']:\n",
    "    print(language)\n",
    "    print(f\"Total time [s]:                        {datetime.timedelta(seconds=df_metadata[df_metadata['Language'] == language]['Duration [s]'].sum())}\")\n",
    "    print(f\"Healthy patients time [s]:             {datetime.timedelta(seconds=df_metadata[(df_metadata['Label'] == 'Healthy conditions') & (df_metadata['Language'] == language)]['Duration [s]'].sum())}\")\n",
    "    print(f\"Parkinson's disease patients time [s]: {datetime.timedelta(seconds=df_metadata[(df_metadata['Label'] != 'Healthy conditions') & (df_metadata['Language'] == language)]['Duration [s]'].sum())}\")\n",
    "    print('\\n')"
   ]
  },
  {
   "cell_type": "markdown",
   "metadata": {
    "pycharm": {
     "name": "#%% md\n"
    }
   },
   "source": [
    "## Results\n",
    "Load DataFrames with results"
   ]
  },
  {
   "cell_type": "code",
   "execution_count": null,
   "metadata": {
    "collapsed": false,
    "jupyter": {
     "outputs_hidden": false
    },
    "pycharm": {
     "name": "#%%\n"
    }
   },
   "outputs": [],
   "source": [
    "df_en_to_hi: pd.DataFrame = pd.read_csv(os.path.join(EN_TO_HI_EXPERIMENTS_DIR, 'scores.csv'))\n",
    "df_en_to_hi = convert_results_df(df_en_to_hi)"
   ]
  },
  {
   "cell_type": "code",
   "execution_count": null,
   "metadata": {
    "collapsed": false,
    "jupyter": {
     "outputs_hidden": false
    },
    "pycharm": {
     "name": "#%%\n"
    }
   },
   "outputs": [],
   "source": [
    "df_hi_to_en = pd.read_csv(os.path.join(HI_TO_EN_EXPERIMENTS_DIR, 'scores.csv'))\n",
    "df_hi_to_en = convert_results_df(df_hi_to_en)"
   ]
  },
  {
   "cell_type": "markdown",
   "metadata": {},
   "source": [
    "### Detection in English"
   ]
  },
  {
   "cell_type": "markdown",
   "metadata": {},
   "source": [
    "### Transferring from English to Hindi"
   ]
  },
  {
   "cell_type": "markdown",
   "metadata": {},
   "source": [
    "### Detection in Hindi"
   ]
  },
  {
   "cell_type": "code",
   "execution_count": null,
   "metadata": {
    "collapsed": false,
    "jupyter": {
     "outputs_hidden": false
    },
    "pycharm": {
     "name": "#%%\n"
    }
   },
   "outputs": [],
   "source": [
    "df = df_hi_to_en[\n",
    "    (df_hi_to_en['Domain adaptation'] == ADAPTATION_MAPPING[False]) & (df_hi_to_en['Data set'] == DATA_MAPPING['src'])\n",
    "]"
   ]
  },
  {
   "cell_type": "markdown",
   "metadata": {},
   "source": [
    "#### Metrics comparison"
   ]
  },
  {
   "cell_type": "code",
   "execution_count": null,
   "metadata": {
    "collapsed": false,
    "jupyter": {
     "outputs_hidden": false
    },
    "pycharm": {
     "name": "#%%\n"
    }
   },
   "outputs": [],
   "source": [
    "fig, axes = plt.subplots(\n",
    "        nrows=len(df['Pooling approach'].unique()),\n",
    "        ncols=len(df['Input features'].unique()),\n",
    "        figsize=(12, 24),\n",
    "        sharex=True,\n",
    "        sharey='row'\n",
    "    )\n",
    "\n",
    "for i, (_, pooling) in enumerate(POOLING_MAPPING.items()):\n",
    "    for j, (_, feature) in enumerate(FEATURES_MAPPING.items()):\n",
    "        sns.barplot(\n",
    "            data=df[(df['Input features'] == feature) & (df['Pooling approach'] == pooling)],\n",
    "            x='Metric',\n",
    "            y='Value',\n",
    "            ax=axes[i][j],\n",
    "            linewidth=1.,\n",
    "            edgecolor='0',\n",
    "            order=list(METRICS_MAPPING.keys())\n",
    "        )\n",
    "        axes[i].set_title(f'Input features: {feature}, Pooling approach: {pooling}')\n",
    "        axes[i][j].set_xlabel('Metric')\n",
    "        axes[i][j].set_ylabel('Score')\n",
    "        # axes[0][i].set_xlim(0.9, tmp_df_coarse[0].max() + 1000)\n",
    "plt.tight_layout()\n",
    "plt.show()"
   ]
  },
  {
   "cell_type": "code",
   "execution_count": null,
   "metadata": {
    "collapsed": false,
    "jupyter": {
     "outputs_hidden": false
    },
    "pycharm": {
     "name": "#%%\n"
    }
   },
   "outputs": [],
   "source": [
    "fig.savefig(os.path.join(OUT_DIR_PATH, 'hi_cls_results.pdf'))"
   ]
  },
  {
   "cell_type": "markdown",
   "metadata": {},
   "source": [
    "#### ROC curve"
   ]
  },
  {
   "cell_type": "code",
   "execution_count": null,
   "metadata": {
    "collapsed": false,
    "jupyter": {
     "outputs_hidden": false
    },
    "pycharm": {
     "name": "#%%\n"
    }
   },
   "outputs": [],
   "source": []
  },
  {
   "cell_type": "code",
   "execution_count": null,
   "metadata": {
    "collapsed": false,
    "jupyter": {
     "outputs_hidden": false
    },
    "pycharm": {
     "name": "#%%\n"
    }
   },
   "outputs": [],
   "source": [
    "fig.savefig(os.path.join(OUT_DIR_PATH, 'hi_roc_curve.pdf'))"
   ]
  },
  {
   "cell_type": "markdown",
   "metadata": {},
   "source": [
    "#### Precision-recall curve"
   ]
  },
  {
   "cell_type": "code",
   "execution_count": null,
   "metadata": {
    "collapsed": false,
    "jupyter": {
     "outputs_hidden": false
    },
    "pycharm": {
     "name": "#%%\n"
    }
   },
   "outputs": [],
   "source": []
  },
  {
   "cell_type": "code",
   "execution_count": null,
   "metadata": {
    "collapsed": false,
    "jupyter": {
     "outputs_hidden": false
    },
    "pycharm": {
     "name": "#%%\n"
    }
   },
   "outputs": [],
   "source": [
    "fig.savefig(os.path.join(OUT_DIR_PATH, 'hi_pr_curve.pdf'))"
   ]
  },
  {
   "cell_type": "markdown",
   "metadata": {},
   "source": [
    "#### Confusion matrix"
   ]
  },
  {
   "cell_type": "code",
   "execution_count": null,
   "metadata": {
    "collapsed": false,
    "jupyter": {
     "outputs_hidden": false
    },
    "pycharm": {
     "name": "#%%\n"
    }
   },
   "outputs": [],
   "source": []
  },
  {
   "cell_type": "code",
   "execution_count": null,
   "metadata": {
    "collapsed": false,
    "jupyter": {
     "outputs_hidden": false
    },
    "pycharm": {
     "name": "#%%\n"
    }
   },
   "outputs": [],
   "source": [
    "fig.savefig(os.path.join(OUT_DIR_PATH, 'hi_cm.pdf'))"
   ]
  },
  {
   "cell_type": "markdown",
   "metadata": {},
   "source": [
    "## Transferring from Hindi to English"
   ]
  }
 ],
 "metadata": {
  "kernelspec": {
   "display_name": "Python 3 (ipykernel)",
   "language": "python",
   "name": "python3"
  },
  "language_info": {
   "codemirror_mode": {
    "name": "ipython",
    "version": 3
   },
   "file_extension": ".py",
   "mimetype": "text/x-python",
   "name": "python",
   "nbconvert_exporter": "python",
   "pygments_lexer": "ipython3",
   "version": "3.10.8"
  }
 },
 "nbformat": 4,
 "nbformat_minor": 4
}

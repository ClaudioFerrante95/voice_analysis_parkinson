{
 "cells": [
  {
   "cell_type": "markdown",
   "metadata": {
    "collapsed": true,
    "pycharm": {
     "name": "#%% md\n"
    }
   },
   "source": [
    "# Cross-Lingual Transferability of Voice Analysis Models: a Parkinson's Disease Case Study"
   ]
  },
  {
   "cell_type": "markdown",
   "source": [
    "## Preliminaries"
   ],
   "metadata": {
    "collapsed": false,
    "pycharm": {
     "name": "#%% md\n"
    }
   }
  },
  {
   "cell_type": "markdown",
   "source": [
    "### Imports"
   ],
   "metadata": {
    "collapsed": false
   }
  },
  {
   "cell_type": "code",
   "execution_count": null,
   "outputs": [],
   "source": [
    "from typing import Tuple, List, Dict, Union"
   ],
   "metadata": {
    "collapsed": false,
    "pycharm": {
     "name": "#%%\n"
    }
   }
  },
  {
   "cell_type": "code",
   "execution_count": null,
   "outputs": [],
   "source": [
    "import os\n",
    "from ast import literal_eval"
   ],
   "metadata": {
    "collapsed": false,
    "pycharm": {
     "name": "#%%\n"
    }
   }
  },
  {
   "cell_type": "code",
   "execution_count": null,
   "outputs": [],
   "source": [
    "import pandas as pd"
   ],
   "metadata": {
    "collapsed": false,
    "pycharm": {
     "name": "#%%\n"
    }
   }
  },
  {
   "cell_type": "code",
   "execution_count": null,
   "outputs": [],
   "source": [
    "%matplotlib inline\n",
    "from matplotlib import pyplot as plt\n",
    "import seaborn as sns"
   ],
   "metadata": {
    "collapsed": false,
    "pycharm": {
     "name": "#%%\n"
    }
   }
  },
  {
   "cell_type": "markdown",
   "source": [
    "### Constants"
   ],
   "metadata": {
    "collapsed": false
   }
  },
  {
   "cell_type": "code",
   "execution_count": null,
   "outputs": [],
   "source": [
    "EN_TO_HI_EXPERIMENTS_DIR: str = ''\n",
    "HI_TO_EN_EXPERIMENTS_DIR: str = ''"
   ],
   "metadata": {
    "collapsed": false,
    "pycharm": {
     "name": "#%%\n"
    }
   }
  },
  {
   "cell_type": "code",
   "execution_count": null,
   "outputs": [],
   "source": [
    "OUT_DIR_PATH: str = './experiments/results'\n",
    "if not os.path.exists(OUT_DIR_PATH):\n",
    "    os.mkdir(OUT_DIR_PATH)"
   ],
   "metadata": {
    "collapsed": false,
    "pycharm": {
     "name": "#%%\n"
    }
   }
  },
  {
   "cell_type": "code",
   "execution_count": null,
   "outputs": [],
   "source": [
    "FEATURES_MAPPING: Dict[str, str] = {\n",
    "    'spectral': 'Acoustic and Spectral',\n",
    "    'vggish': 'VGGish',\n",
    "    'soundnet': 'SoundNet',\n",
    "    'wav2vec': 'Wav2Vec 2.0'\n",
    "}\n",
    "POOLING_MAPPING: Dict[str, str] = {\n",
    "    'avg': 'Avg. pooling',\n",
    "    'max': 'Max pooling',\n",
    "    'flatten': 'Flattening'\n",
    "}\n",
    "ADAPTATION_MAPPING: Dict[bool, str] = {\n",
    "    False: 'None',\n",
    "    True: 'CORrelation ALignment (CORAL)'\n",
    "}\n",
    "DATA_MAPPING: Dict[str, str] = {\n",
    "    'src': 'Source data (test split)',\n",
    "    'tgt': 'Target data'\n",
    "}\n",
    "METRICS_MAPPING: Dict[str, str] = {\n",
    "    'accuracy': 'Accuracy',\n",
    "    'precision': 'Precision',\n",
    "    'recall': 'Recall',\n",
    "    'fscore': '$F_1$-score',\n",
    "    'specificity': 'Specificity',\n",
    "    'roc_auc': 'ROC AUC',\n",
    "    'support': 'Support',\n",
    "    'fpr': 'False positives rate',\n",
    "    'tpr': 'True postives rate',\n",
    "    'roc_thresholds': 'Threshold (from ROC curve)',\n",
    "    'precisions': 'Precision score',\n",
    "    'recalls': 'Recall score',\n",
    "    'pr_rc_thresholds': 'Threshold (from precision-recall) curve',\n",
    "    'confusion_matrix': 'Confusion matrix'\n",
    "}"
   ],
   "metadata": {
    "collapsed": false,
    "pycharm": {
     "name": "#%%\n"
    }
   }
  },
  {
   "cell_type": "code",
   "execution_count": null,
   "outputs": [],
   "source": [
    "DF_COLUMNS: List[str] = ['Input features', 'Pooling approach', 'Domain adaptation', 'Data set', 'Metric', 'Value']"
   ],
   "metadata": {
    "collapsed": false,
    "pycharm": {
     "name": "#%%\n"
    }
   }
  },
  {
   "cell_type": "markdown",
   "source": [
    "### Utility function(s)"
   ],
   "metadata": {
    "collapsed": false,
    "pycharm": {
     "name": "#%% md\n"
    }
   }
  },
  {
   "cell_type": "code",
   "execution_count": null,
   "outputs": [],
   "source": [
    "def convert_series(raw_series: pd.Series) -> Tuple[\n",
    "    str, str, str, str, str, Union[float, int, List[float], List[List[int]]]\n",
    "]:\n",
    "    feature: str = FEATURES_MAPPING[raw_series['feature']]\n",
    "    pooling: str = POOLING_MAPPING[raw_series['pooling']]\n",
    "    adaptation: str = ADAPTATION_MAPPING[raw_series['adaptation']]\n",
    "    data: str = DATA_MAPPING[raw_series['data_set']]\n",
    "    metric: str = METRICS_MAPPING[raw_series['metric']]\n",
    "    value = literal_eval(raw_series['value'])\n",
    "\n",
    "    return feature, pooling, adaptation, data, metric, value"
   ],
   "metadata": {
    "collapsed": false,
    "pycharm": {
     "name": "#%%\n"
    }
   }
  },
  {
   "cell_type": "code",
   "execution_count": null,
   "outputs": [],
   "source": [
    "def convert_results_df(raw_df: pd.DataFrame) -> pd.DataFrame:\n",
    "    df: pd.DataFrame = pd.DataFrame(\n",
    "        [row for _, row in raw_df.iterrows()], columns=DF_COLUMNS\n",
    "    )\n",
    "\n",
    "    return df"
   ],
   "metadata": {
    "collapsed": false,
    "pycharm": {
     "name": "#%%\n"
    }
   }
  },
  {
   "cell_type": "markdown",
   "source": [
    "## Data"
   ],
   "metadata": {
    "collapsed": false
   }
  },
  {
   "cell_type": "markdown",
   "source": [
    "Distribution of duration (in seconds) of audio files"
   ],
   "metadata": {
    "collapsed": false,
    "pycharm": {
     "name": "#%% md\n"
    }
   }
  },
  {
   "cell_type": "code",
   "execution_count": null,
   "outputs": [],
   "source": [],
   "metadata": {
    "collapsed": false,
    "pycharm": {
     "name": "#%%\n"
    }
   }
  },
  {
   "cell_type": "markdown",
   "source": [
    "## Results\n",
    "Load DataFrames with results"
   ],
   "metadata": {
    "collapsed": false,
    "pycharm": {
     "name": "#%% md\n"
    }
   }
  },
  {
   "cell_type": "code",
   "execution_count": null,
   "outputs": [],
   "source": [
    "df_en_to_hi: pd.DataFrame = pd.read_csv(os.path.join(EN_TO_HI_EXPERIMENTS_DIR, 'scores.csv'))\n",
    "df_en_to_hi = convert_results_df(df_en_to_hi)"
   ],
   "metadata": {
    "collapsed": false,
    "pycharm": {
     "name": "#%%\n"
    }
   }
  },
  {
   "cell_type": "code",
   "execution_count": null,
   "outputs": [],
   "source": [
    "df_hi_to_en = pd.read_csv(os.path.join(HI_TO_EN_EXPERIMENTS_DIR, 'scores.csv'))\n",
    "df_hi_to_en = convert_results_df(df_hi_to_en)"
   ],
   "metadata": {
    "collapsed": false,
    "pycharm": {
     "name": "#%%\n"
    }
   }
  },
  {
   "cell_type": "markdown",
   "source": [
    "### Detection in English"
   ],
   "metadata": {
    "collapsed": false
   }
  },
  {
   "cell_type": "markdown",
   "source": [
    "### Transferring from English to Hindi"
   ],
   "metadata": {
    "collapsed": false
   }
  },
  {
   "cell_type": "markdown",
   "source": [
    "### Detection in Hindi"
   ],
   "metadata": {
    "collapsed": false
   }
  },
  {
   "cell_type": "code",
   "execution_count": null,
   "outputs": [],
   "source": [
    "df = df_hi_to_en[\n",
    "    (df_hi_to_en['Domain adaptation'] == ADAPTATION_MAPPING[False]) & (df_hi_to_en['Data set'] == DATA_MAPPING['src'])\n",
    "]"
   ],
   "metadata": {
    "collapsed": false,
    "pycharm": {
     "name": "#%%\n"
    }
   }
  },
  {
   "cell_type": "markdown",
   "source": [
    "#### Metrics comparison"
   ],
   "metadata": {
    "collapsed": false
   }
  },
  {
   "cell_type": "code",
   "execution_count": null,
   "outputs": [],
   "source": [
    "fig, axes = plt.subplots(\n",
    "        nrows=len(df['Pooling approach'].unique()),\n",
    "        ncols=len(df['Input features'].unique()),\n",
    "        figsize=(12, 24),\n",
    "        sharex=True,\n",
    "        sharey='row'\n",
    "    )\n",
    "\n",
    "for i, (_, feature) in enumerate(FEATURES_MAPPING.items()):\n",
    "    for j, (_, pooling) in enumerate(POOLING_MAPPING):\n",
    "        sns.barplot(\n",
    "            data=df[(df['Input features'] == feature) & (df['Pooling approach'] == pooling)],\n",
    "            x='Metric',\n",
    "            y='Value',\n",
    "            ax=axes[i][j],\n",
    "            linewidth=1.,\n",
    "            edgecolor='0',\n",
    "            order=list(METRICS_MAPPING.keys())\n",
    "        )\n",
    "        axes[i].set_title(f'Input features: {feature}, Pooling approach: {pooling}')\n",
    "        axes[i][j].set_xlabel('Metric')\n",
    "        axes[i][j].set_ylabel('Score')\n",
    "        # axes[0][i].set_xlim(0.9, tmp_df_coarse[0].max() + 1000)\n",
    "plt.tight_layout()\n",
    "plt.show()"
   ],
   "metadata": {
    "collapsed": false,
    "pycharm": {
     "name": "#%%\n"
    }
   }
  },
  {
   "cell_type": "code",
   "execution_count": null,
   "outputs": [],
   "source": [
    "fig.savefig(os.path.join(OUT_DIR_PATH, 'hi_cls_results.pdf'))"
   ],
   "metadata": {
    "collapsed": false,
    "pycharm": {
     "name": "#%%\n"
    }
   }
  },
  {
   "cell_type": "markdown",
   "source": [
    "#### ROC curve"
   ],
   "metadata": {
    "collapsed": false
   }
  },
  {
   "cell_type": "code",
   "execution_count": null,
   "outputs": [],
   "source": [],
   "metadata": {
    "collapsed": false,
    "pycharm": {
     "name": "#%%\n"
    }
   }
  },
  {
   "cell_type": "code",
   "execution_count": null,
   "outputs": [],
   "source": [
    "fig.savefig(os.path.join(OUT_DIR_PATH, 'hi_roc_curve.pdf'))"
   ],
   "metadata": {
    "collapsed": false,
    "pycharm": {
     "name": "#%%\n"
    }
   }
  },
  {
   "cell_type": "markdown",
   "source": [
    "#### Precision-recall curve"
   ],
   "metadata": {
    "collapsed": false
   }
  },
  {
   "cell_type": "code",
   "execution_count": null,
   "outputs": [],
   "source": [],
   "metadata": {
    "collapsed": false,
    "pycharm": {
     "name": "#%%\n"
    }
   }
  },
  {
   "cell_type": "code",
   "execution_count": null,
   "outputs": [],
   "source": [
    "fig.savefig(os.path.join(OUT_DIR_PATH, 'hi_pr_curve.pdf'))"
   ],
   "metadata": {
    "collapsed": false,
    "pycharm": {
     "name": "#%%\n"
    }
   }
  },
  {
   "cell_type": "markdown",
   "source": [
    "#### Confusion matrix"
   ],
   "metadata": {
    "collapsed": false
   }
  },
  {
   "cell_type": "code",
   "execution_count": null,
   "outputs": [],
   "source": [],
   "metadata": {
    "collapsed": false,
    "pycharm": {
     "name": "#%%\n"
    }
   }
  },
  {
   "cell_type": "code",
   "execution_count": null,
   "outputs": [],
   "source": [
    "fig.savefig(os.path.join(OUT_DIR_PATH, 'hi_cm.pdf'))"
   ],
   "metadata": {
    "collapsed": false,
    "pycharm": {
     "name": "#%%\n"
    }
   }
  },
  {
   "cell_type": "markdown",
   "source": [
    "## Transferring from Hindi to English"
   ],
   "metadata": {
    "collapsed": false
   }
  }
 ],
 "metadata": {
  "kernelspec": {
   "display_name": "Python 3",
   "language": "python",
   "name": "python3"
  },
  "language_info": {
   "codemirror_mode": {
    "name": "ipython",
    "version": 2
   },
   "file_extension": ".py",
   "mimetype": "text/x-python",
   "name": "python",
   "nbconvert_exporter": "python",
   "pygments_lexer": "ipython2",
   "version": "2.7.6"
  }
 },
 "nbformat": 4,
 "nbformat_minor": 0
}